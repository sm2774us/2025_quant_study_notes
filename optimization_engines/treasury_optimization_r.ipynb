{
 "cells": [
  {
   "cell_type": "markdown",
   "metadata": {},
   "source": [
    "# Treasury Trading Optimization: R Comparison\n",
    "This notebook processes 2024 U.S. Treasury real yield curve data and solves a simplified optimization problem using `lpSolve`, as not all engines (e.g., MOSEK, Gurobi) have direct R interfaces. It replicates the Python notebook's plots."
   ]
  },
  {
   "cell_type": "code",
   "execution_count": 8,
   "metadata": {
    "vscode": {
     "languageId": "r"
    }
   },
   "outputs": [
    {
     "name": "stderr",
     "output_type": "stream",
     "text": [
      "Warning message:\n",
      "\"packages 'tidyverse', 'httr', 'lpSolve', 'ggplot2' are in use and will not be installed\"\n",
      "\u001b[1m\u001b[22m\u001b[90m[conflicted]\u001b[39m Will prefer \u001b[1m\u001b[34mdplyr\u001b[39m\u001b[22m::filter over any other package.\n",
      "\u001b[1m\u001b[22m\u001b[90m[conflicted]\u001b[39m Will prefer \u001b[1m\u001b[34mdplyr\u001b[39m\u001b[22m::lag over any other package.\n"
     ]
    },
    {
     "name": "stdout",
     "output_type": "stream",
     "text": [
      "[1] \"Packages loaded successfully!\"\n"
     ]
    }
   ],
   "source": [
    "# install.packages(c(\"tidyverse\", \"httr\", \"lpSolve\", \"ggplot2\"))\n",
    "# library(tidyverse)\n",
    "# library(httr)\n",
    "# library(lpSolve)\n",
    "# library(ggplot2)\n",
    "\n",
    "# Install packages (only run once if not already installed)\n",
    "install.packages(c(\"tidyverse\", \"httr\", \"lpSolve\", \"ggplot2\"), dependencies = TRUE)\n",
    "\n",
    "# Load libraries with conflict management\n",
    "library(tidyverse)  # Load tidyverse first\n",
    "library(httr)       # No conflicts\n",
    "library(lpSolve)    # No conflicts\n",
    "library(ggplot2, warn.conflicts = FALSE)  # Already loaded by tidyverse, suppress conflict warnings\n",
    "\n",
    "# Explicitly resolve conflicts by preferring dplyr functions (optional)\n",
    "conflicted::conflict_prefer(\"filter\", \"dplyr\")\n",
    "conflicted::conflict_prefer(\"lag\", \"dplyr\")\n",
    "\n",
    "# Test that everything loads\n",
    "print(\"Packages loaded successfully!\")"
   ]
  },
  {
   "cell_type": "markdown",
   "metadata": {},
   "source": [
    "## Data Retrieval"
   ]
  },
  {
   "cell_type": "code",
   "execution_count": 9,
   "metadata": {
    "vscode": {
     "languageId": "r"
    }
   },
   "outputs": [
    {
     "name": "stderr",
     "output_type": "stream",
     "text": [
      "\u001b[1mRows: \u001b[22m\u001b[34m250\u001b[39m \u001b[1mColumns: \u001b[22m\u001b[34m6\u001b[39m\n",
      "\u001b[36m──\u001b[39m \u001b[1mColumn specification\u001b[22m \u001b[36m────────────────────────────────────────────────────────\u001b[39m\n",
      "\u001b[1mDelimiter:\u001b[22m \",\"\n",
      "\u001b[31mchr\u001b[39m (1): Date\n",
      "\u001b[32mdbl\u001b[39m (5): 5 YR, 7 YR, 10 YR, 20 YR, 30 YR\n",
      "\n",
      "\u001b[36mℹ\u001b[39m Use `spec()` to retrieve the full column specification for this data.\n",
      "\u001b[36mℹ\u001b[39m Specify the column types or set `show_col_types = FALSE` to quiet this message.\n"
     ]
    },
    {
     "name": "stdout",
     "output_type": "stream",
     "text": [
      "\u001b[90m# A tibble: 6 × 6\u001b[39m\n",
      "  Date       `5 YR` `7 YR` `10 YR` `20 YR` `30 YR`\n",
      "  \u001b[3m\u001b[90m<date>\u001b[39m\u001b[23m      \u001b[3m\u001b[90m<dbl>\u001b[39m\u001b[23m  \u001b[3m\u001b[90m<dbl>\u001b[39m\u001b[23m   \u001b[3m\u001b[90m<dbl>\u001b[39m\u001b[23m   \u001b[3m\u001b[90m<dbl>\u001b[39m\u001b[23m   \u001b[3m\u001b[90m<dbl>\u001b[39m\u001b[23m\n",
      "\u001b[90m1\u001b[39m 2024-01-09   1.8    1.8     1.8     1.91    1.99\n",
      "\u001b[90m2\u001b[39m 2024-01-08   1.78   1.79    1.79    1.9     1.98\n",
      "\u001b[90m3\u001b[39m 2024-01-05   1.83   1.83    1.83    1.94    2.02\n",
      "\u001b[90m4\u001b[39m 2024-01-04   1.79   1.78    1.77    1.88    1.96\n",
      "\u001b[90m5\u001b[39m 2024-01-03   1.73   1.71    1.71    1.81    1.89\n",
      "\u001b[90m6\u001b[39m 2024-01-02   1.76   1.75    1.74    1.84    1.91\n"
     ]
    }
   ],
   "source": [
    "# # Fetch 2024 Treasury data\n",
    "# url <- \"https://home.treasury.gov/resource-center/data-chart-center/interest-rates/daily-treasury-rates.csv/2024/all?type=daily_treasury_real_yield_curve&field_tdr_date_value=2024&page&_format=csv\"\n",
    "# response <- GET(url)\n",
    "# writeBin(content(response, \"raw\"), \"treasury_2024.csv\")\n",
    "\n",
    "# # Load and process\n",
    "# data <- read_csv(\"treasury_2024.csv\")\n",
    "# rates <- data %>% \n",
    "#   select(Date, `5 YR`, `7 YR`, `10 YR`, `20 YR`, `30 YR`) %>% \n",
    "#   drop_na() %>% \n",
    "#   mutate(Date = as.Date(Date))\n",
    "# print(tail(rates))\n",
    "\n",
    "library(tidyverse)\n",
    "library(httr)\n",
    "\n",
    "# Fetch 2024 Treasury data\n",
    "url <- \"https://home.treasury.gov/resource-center/data-chart-center/interest-rates/daily-treasury-rates.csv/2024/all?type=daily_treasury_real_yield_curve&field_tdr_date_value=2024&page&_format=csv\"\n",
    "response <- GET(url)\n",
    "writeBin(content(response, \"raw\"), \"treasury_2024.csv\")\n",
    "\n",
    "# Load and process\n",
    "data <- read_csv(\"treasury_2024.csv\")\n",
    "rates <- data %>% \n",
    "  select(Date, `5 YR`, `7 YR`, `10 YR`, `20 YR`, `30 YR`) %>% \n",
    "  drop_na() %>% \n",
    "  mutate(Date = as.Date(Date, format = \"%m/%d/%Y\"))\n",
    "print(tail(rates))"
   ]
  },
  {
   "cell_type": "markdown",
   "metadata": {},
   "source": [
    "## Problem Definition\n",
    "- **Objective**: Minimize $\\sum (w_i \\cdot r_i + f_i)$\n",
    "- **Constraints**:\n",
    "  - $\\sum w_i = 1$\n",
    "  - $w_i \\geq 0.02$ (haircut)\n",
    "  - $w_i \\geq 0$\n",
    "- **Parameters**:\n",
    "  - $r_i$: Latest yields\n",
    "  - $h_i = 0.02$\n",
    "  - $f_i = 0.001$"
   ]
  },
  {
   "cell_type": "code",
   "execution_count": 10,
   "metadata": {
    "vscode": {
     "languageId": "r"
    }
   },
   "outputs": [
    {
     "name": "stdout",
     "output_type": "stream",
     "text": [
      "lpSolve: Weights = 0.02 0.02 0.94 0.02 , Cost = 0.018426 \n"
     ]
    }
   ],
   "source": [
    "# Latest rates\n",
    "r <- as.numeric(tail(rates, 1)[, 2:5]) / 100\n",
    "h <- rep(0.02, 4)\n",
    "f <- rep(0.001, 4)\n",
    "n <- length(r)\n",
    "\n",
    "# Objective: r + f\n",
    "obj <- r + f\n",
    "\n",
    "# Constraints: sum(w) = 1, w >= h\n",
    "con <- rbind(t(rep(1, n)), diag(n))\n",
    "dir <- c(\"=\", rep(\">=\", n))\n",
    "rhs <- c(1, h)\n",
    "\n",
    "# Solve\n",
    "sol <- lp(\"min\", obj, con, dir, rhs)\n",
    "w_lpsolve <- sol$solution\n",
    "cost_lpsolve <- sol$objval\n",
    "cat(\"lpSolve: Weights =\", w_lpsolve, \", Cost =\", cost_lpsolve, \"\\n\")"
   ]
  },
  {
   "cell_type": "markdown",
   "metadata": {},
   "source": [
    "## Visualization"
   ]
  },
  {
   "cell_type": "code",
   "execution_count": 11,
   "metadata": {
    "vscode": {
     "languageId": "r"
    }
   },
   "outputs": [
    {
     "data": {
      "image/png": "[encoded data removed]",
      "text/plain": [
       "plot without title"
      ]
     },
     "metadata": {
      "image/png": {
       "height": 420,
       "width": 420
      }
     },
     "output_type": "display_data"
    },
    {
     "data": {
      "image/png": "[encoded data removed]",
      "text/plain": [
       "plot without title"
      ]
     },
     "metadata": {
      "image/png": {
       "height": 420,
       "width": 420
      }
     },
     "output_type": "display_data"
    }
   ],
   "source": [
    "# Mock results (only lpSolve run in R)\n",
    "results <- data.frame(\n",
    "  Engine = c(\"lpSolve\"),\n",
    "  Cost = c(cost_lpsolve)\n",
    ")\n",
    "\n",
    "ggplot(results, aes(x = Engine, y = Cost)) +\n",
    "  geom_bar(stat = \"identity\", fill = \"steelblue\") +\n",
    "  theme_minimal() +\n",
    "  labs(title = \"Optimization Engine Cost Comparison (Feb 19, 2025)\", y = \"Total Funding Cost\") +\n",
    "  theme(axis.text.x = element_text(angle = 45, hjust = 1))\n",
    "\n",
    "# Weights heatmap\n",
    "weights <- data.frame(\n",
    "  Engine = \"lpSolve\",\n",
    "  t(w_lpsolve)\n",
    ")\n",
    "colnames(weights) <- c(\"Engine\", \"5 Yr\", \"10 Yr\", \"20 Yr\", \"30 Yr\")\n",
    "weights_long <- pivot_longer(weights, -Engine, names_to = \"Maturity\", values_to = \"Weight\")\n",
    "\n",
    "ggplot(weights_long, aes(x = Engine, y = Maturity, fill = Weight)) +\n",
    "  geom_tile() +\n",
    "  geom_text(aes(label = round(Weight, 3))) +\n",
    "  scale_fill_gradient(low = \"yellow\", high = \"blue\") +\n",
    "  labs(title = \"Allocation Weights by Engine\") +\n",
    "  theme_minimal()"
   ]
  },
  {
   "cell_type": "markdown",
   "metadata": {},
   "source": [
    "## Notes\n",
    "- **Solvers**: Only `lpSolve` used due to limited R support for MOSEK, Gurobi, etc. Export Python results to CSV for full comparison.\n",
    "- **Data**: Adjust URL parsing if CSV format changes.\n",
    "- **Extensions**: Use `Rglpk` or `ROI` for alternative R solvers."
   ]
  }
 ],
 "metadata": {
  "kernelspec": {
   "display_name": "R",
   "language": "R",
   "name": "ir"
  },
  "language_info": {
   "codemirror_mode": "r",
   "file_extension": ".r",
   "mimetype": "text/x-r-source",
   "name": "R",
   "pygments_lexer": "r",
   "version": "4.3.2"
  }
 },
 "nbformat": 4,
 "nbformat_minor": 4
}
