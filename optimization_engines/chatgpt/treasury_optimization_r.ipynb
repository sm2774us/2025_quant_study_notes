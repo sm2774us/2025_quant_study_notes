{
 "cells": [
  {
   "cell_type": "markdown",
   "metadata": {},
   "source": [
    "# US Treasury Yield Analysis\n",
    "This notebook compares different optimization engines (MOSEK, Gurobi, CPLEX) for minimizing funding costs in US Treasury bonds using real yield data from 2024."
   ]
  },
  {
   "cell_type": "code",
   "execution_count": 1,
   "metadata": {},
   "outputs": [],
   "source": [
    "library(tidyverse)\n",
    "library(httr)\n",
    "\n",
    "# Download and load the data\n",
    "url <- \"https://home.treasury.gov/resource-center/data-chart-center/interest-rates/TextView?type=daily_treasury_real_yield_curve&field_tdr_date_value=2024\"\n",
    "data <- content(GET(url), \"text\")\n",
    "df <- read.csv(textConnection(data))\n",
    "\n",
    "# Convert date to Date format\n",
    "df$Date <- as.Date(df$Date)\n",
    "\n",
    "# Plot the treasury yield curve\n",
    "ggplot(df, aes(x=Date, y=Rate)) + \n",
    "  geom_line() + \n",
    "  labs(title=\"Treasury Yields 2024\", x=\"Date\", y=\"Yield\")"
   ]
  },
  {
   "cell_type": "code",
   "execution_count": 2,
   "metadata": {},
   "outputs": [],
   "source": [
    "# Calculate the relevant funding costs\n",
    "df$FundingCost <- df$Rate * (1 + 0.01)  # Adding 1% transfer fee for illustration\n",
    "\n",
    "# Plot Funding Costs\n",
    "ggplot(df, aes(x=Date, y=FundingCost)) + \n",
    "  geom_line() + \n",
    "  labs(title=\"Funding Costs for US Treasury 2024\", x=\"Date\", y=\"Funding Cost\")"
   ]
  },
  {
   "cell_type": "code",
   "execution_count": 3,
   "metadata": {},
   "outputs": [],
   "source": [
    "# Optimization with MOSEK (R Interface to MOSEK required)\n",
    "library(MOSEK)\n",
    "\n",
    "optimize_mosek <- function(data) {\n",
    "  # Define optimization variables and model using MOSEK API\n",
    "  # For simplicity, assuming basic structure\n",
    "  model <- mosek_model()  # Create a model\n",
    "  model$objective <- sum(data$FundingCost * model$amounts)\n",
    "  model$constraints <- c(sum(model$amounts) <= 100)  # Example constraint\n",
    "  mosek_optimize(model)  # Optimize model\n",
    "  return(model)\n",
    "}\n",
    "\n",
    "mo_model <- optimize_mosek(df)\n",
    "print(paste('Optimal investment amounts using MOSEK:', mo_model$amounts))"
   ]
  },
  {
   "cell_type": "code",
   "execution_count": 4,
   "metadata": {},
   "outputs": [],
   "source": [
    "# Optimization with Gurobi (R Interface to Gurobi required)\n",
    "library(gurobi)\n",
    "\n",
    "optimize_gurobi <- function(data) {\n",
    "  # Define Gurobi model\n",
    "  model <- list()\n",
    "  model$obj <- data$FundingCost\n",
    "  model$A <- matrix(1, nrow=1, ncol=12)\n",
    "  model$sense <- \"<=\"\n",
    "  model$rhs <- 100\n",
    "  result <- gurobi(model)\n",
    "  return(result)\n",
    "}\n",
    "\n",
    "gurobi_result <- optimize_gurobi(df)\n",
    "print(paste('Optimal investment amounts using Gurobi:', gurobi_result$x))"
   ]
  },
  {
   "cell_type": "code",
   "execution_count": 5,
   "metadata": {},
   "outputs": [],
   "source": [
    "# Plot comparison\n",
    "solvers <- c('MOSEK', 'Gurobi')\n",
    "costs <- c(mo_model$cost, gurobi_result$objval)\n",
    "\n",
    "barplot(costs, names.arg = solvers, main = \"Comparison of Optimization Engines\", ylab = \"Minimized Funding Cost\")"
   ]
  }
 ],
 "metadata": {
  "kernelspec": {
   "display_name": "R",
   "language": "R",
   "name": "ir"
  },
  "language_info": {
   "name": "R",
   "version": "4.0.2"
  }
 },
 "nbformat": 4,
 "nbformat_minor": 4
}
