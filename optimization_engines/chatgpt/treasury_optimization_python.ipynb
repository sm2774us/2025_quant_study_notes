{
 "cells": [
  {
   "cell_type": "markdown",
   "metadata": {},
   "source": [
    "# US Treasury Yield Analysis\n",
    "This notebook compares different optimization engines (MOSEK, Gurobi, CPLEX) for minimizing funding costs in US Treasury bonds using real yield data from 2024."
   ]
  },
  {
   "cell_type": "code",
   "execution_count": 1,
   "metadata": {},
   "outputs": [],
   "source": [
    "import pandas as pd\n",
    "import numpy as np\n",
    "import matplotlib.pyplot as plt\n",
    "import requests\n",
    "from io import StringIO\n",
    "\n",
    "# Download and load the data\n",
    "url = \"https://home.treasury.gov/resource-center/data-chart-center/interest-rates/TextView?type=daily_treasury_real_yield_curve&field_tdr_date_value=2024\"\n",
    "response = requests.get(url)\n",
    "data = response.text\n",
    "\n",
    "# Parse the data into a DataFrame\n",
    "# Assuming the data is structured in a CSV-like format (example, you may need to adjust for actual format)\n",
    "df = pd.read_csv(StringIO(data))\n",
    "\n",
    "# View data structure\n",
    "df.head()"
   ]
  },
  {
   "cell_type": "code",
   "execution_count": 2,
   "metadata": {},
   "outputs": [],
   "source": [
    "# Convert date to datetime format and set it as the index\n",
    "df['Date'] = pd.to_datetime(df['Date'])\n",
    "df.set_index('Date', inplace=True)\n",
    "\n",
    "# Calculate the relevant data columns (e.g., funding rates, haircuts, transfer fees)\n",
    "# Assuming 'Rate' column corresponds to treasury yields and we derive funding costs from them\n",
    "df['FundingCost'] = df['Rate'] * (1 + 0.01)  # Add a simple transfer fee for example\n",
    "\n",
    "# Visualize funding costs\n",
    "plt.figure(figsize=(10, 6))\n",
    "plt.plot(df.index, df['FundingCost'], label='Funding Costs')\n",
    "plt.xlabel('Date')\n",
    "plt.ylabel('Funding Cost')\n",
    "plt.title('Funding Costs for US Treasury 2024')\n",
    "plt.legend()\n",
    "plt.show()"
   ]
  },
  {
   "cell_type": "code",
   "execution_count": 3,
   "metadata": {},
   "outputs": [],
   "source": [
    "from mosek.fusion import *\n",
    "\n",
    "# Define the optimization problem variables\n",
    "def optimization_model(data):\n",
    "    with Model('treasury_optimization') as M:\n",
    "        # Variables: investment amounts in different treasury bonds\n",
    "        amounts = M.variable('amounts', 12, Domain.greaterThan(0.0))  # Assuming 12 bonds in 12 months\n",
    "        \n",
    "        # Objective function: Minimize the funding cost\n",
    "        cost = Expr.dot(data['FundingCost'].values, amounts)\n",
    "        M.objective('minimize_cost', ObjectiveSense.Minimize, cost)\n",
    "        \n",
    "        # Constraints (example: haircuts, limits on borrowing)\n",
    "        M.constraint('max_haircut', Expr.sum(amounts), Domain.lessThan(100))\n",
    "        \n",
    "        # Solve the model\n",
    "        M.solve()\n",
    "        return M\n",
    "\n",
    "# Solve using MOSEK\n",
    "mo_model = optimization_model(df)\n",
    "print(\"Optimal investment amounts:\", mo_model.variable('amounts').level())"
   ]
  },
  {
   "cell_type": "code",
   "execution_count": 4,
   "metadata": {},
   "outputs": [],
   "source": [
    "# Gurobi example\n",
    "from gurobipy import *\n",
    "\n",
    "def gurobi_model(data):\n",
    "    model = Model(\"treasury_optimization\")\n",
    "    \n",
    "    # Decision variables\n",
    "    amounts = model.addVars(12, lb=0, name=\"amounts\")\n",
    "    \n",
    "    # Objective: Minimize funding cost\n",
    "    model.setObjective(quicksum(data['FundingCost'][i] * amounts[i] for i in range(12)), GRB.MINIMIZE)\n",
    "    \n",
    "    # Constraints (similar to the MOSEK case)\n",
    "    model.addConstr(quicksum(amounts[i] for i in range(12)) <= 100, \"max_haircut\")\n",
    "    \n",
    "    # Optimize\n",
    "    model.optimize()\n",
    "    return model.objVal, [amounts[i].x for i in range(12)]\n",
    "\n",
    "# Solve using Gurobi\n",
    "gurobi_cost, gurobi_amounts = gurobi_model(df)\n",
    "print(\"Gurobi optimal investment:\", gurobi_amounts)"
   ]
  },
  {
   "cell_type": "code",
   "execution_count": 5,
   "metadata": {},
   "outputs": [],
   "source": [
    "# Plot comparison\n",
    "solvers = ['MOSEK', 'Gurobi']\n",
    "costs = [mo_model.objective().value(), gurobi_cost]  # Add CPLEX cost here\n",
    "\n",
    "plt.figure(figsize=(10, 6))\n",
    "plt.bar(solvers, costs)\n",
    "plt.title('Comparison of Optimization Engines')\n",
    "plt.ylabel('Minimized Funding Cost')\n",
    "plt.show()"
   ]
  }
 ],
 "metadata": {
  "kernelspec": {
   "display_name": "Python 3",
   "language": "python",
   "name": "python3"
  },
  "language_info": {
   "codemirror_mode": {
    "name": "ipython",
    "version": 3
   },
   "file_extension": ".py",
   "mimetype": "text/x-python",
   "name": "python",
   "nbconvert_exporter": "python",
   "pygments_lexer": "ipython3",
   "version": "3.8.0"
  }
 },
 "nbformat": 4,
 "nbformat_minor": 4
}
