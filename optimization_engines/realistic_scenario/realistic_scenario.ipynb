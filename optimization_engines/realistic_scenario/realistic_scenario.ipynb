{
 "cells": [
  {
   "cell_type": "markdown",
   "metadata": {},
   "source": [
    "# Treasury Trading Optimization at Balyasny Asset Management L.P.\n",
    "\n",
    "This notebook explores a treasury trading optimization problem for a Senior Quantitative Researcher at Balyasny Asset Management L.P. (BAM), maximizing net spread as of February 19, 2025."
   ]
  },
  {
   "cell_type": "markdown",
   "metadata": {},
   "source": [
    "## Scenario\n",
    "\n",
    "Maximize net spread minus transaction costs for a $250M treasury portfolio:\n",
    "\n",
    "$$S = \\sum_{i=1}^{n} w_i (r_i - r_f_i) - c_i |w_i|$$\n",
    "\n",
    "- $w_i$: Weight (long or short).\n",
    "- $r_i$: Yield.\n",
    "- $r_f_i$: Repo rate.\n",
    "- $c_i$: Transaction cost."
   ]
  },
  {
   "cell_type": "markdown",
   "metadata": {},
   "source": [
    "## Constraints\n",
    "\n",
    "1. **Capital**: $\\sum |w_i| V_i \\leq 250M$, $V_i = 50M$.\n",
    "2. **CVaR**: $\\alpha + \\frac{1}{0.05} \\mathbb{E} [(\\mathbf{w}^T \\mathbf{\\sigma} Z)^+ ] \\leq 3M$.\n",
    "3. **Liquidity**: $|w_i| V_i \\leq L_i$.\n",
    "4. **Haircut**: $|w_i| \\geq 0.02$.\n",
    "\n",
    "$$\\text{Maximize: } \\mathbf{w}^T (\\mathbf{r} - \\mathbf{r}_f) - \\mathbf{c}^T |\\mathbf{w}|$$"
   ]
  },
  {
   "cell_type": "code",
   "execution_count": 1,
   "metadata": {},
   "outputs": [
    {
     "name": "stdout",
     "output_type": "stream",
     "text": [
      "Yields: [0.0176 0.0175 0.0174 0.0184 0.0191]\n",
      "Repo Rates: [0.0195 0.02   0.0205 0.0215 0.022 ]\n"
     ]
    }
   ],
   "source": [
    "import pandas as pd\n",
    "import numpy as np\n",
    "import requests\n",
    "from cvxopt import matrix, solvers\n",
    "\n",
    "# Fetch data\n",
    "url = \"https://home.treasury.gov/resource-center/data-chart-center/interest-rates/daily-treasury-rates.csv/2024/all?type=daily_treasury_real_yield_curve&field_tdr_date_value=2024&page&_format=csv\"\n",
    "response = requests.get(url)\n",
    "with open(\"treasury_2024.csv\", \"wb\") as f:\n",
    "    f.write(response.content)\n",
    "\n",
    "data = pd.read_csv(\"treasury_2024.csv\")\n",
    "rates = data[[\"Date\", \"5 YR\", \"7 YR\", \"10 YR\", \"20 YR\", \"30 YR\"]].dropna()\n",
    "r = rates.iloc[-1, 1:].values.astype(np.float64) / 100  # Yields\n",
    "r_f = np.array([0.0195, 0.0200, 0.0205, 0.0215, 0.0220])  # Repo rates\n",
    "c = np.array([0.001, 0.0015, 0.002, 0.0025, 0.003])  # Costs\n",
    "sigma = np.array([0.15, 0.17, 0.19, 0.22, 0.25]) / 100  # Volatilities\n",
    "V = np.array([50] * 5)  # Notional ($50M)\n",
    "L = np.array([100, 90, 80, 60, 50])  # Liquidity ($M)\n",
    "n = len(r)\n",
    "print(f\"Yields: {r}\")\n",
    "print(f\"Repo Rates: {r_f}\")"
   ]
  },
  {
   "cell_type": "markdown",
   "metadata": {},
   "source": [
    "## QP Formulation\n",
    "\n",
    "Linearize $|w_i|$ with $w_i = w_i^+ - w_i^-$:\n",
    "$$\\text{Maximize: } (\\mathbf{r} - \\mathbf{r}_f)^T (\\mathbf{w}^+ - \\mathbf{w}^-) - \\mathbf{c}^T (\\mathbf{w}^+ + \\mathbf{w}^-)$$\n",
    "\n",
    "Constraints include CVaR via scenarios."
   ]
  },
  {
   "cell_type": "code",
   "execution_count": 2,
   "metadata": {},
   "outputs": [
    {
     "ename": "TypeError",
     "evalue": "'G' must be a 'd' matrix of size (21, 10)",
     "output_type": "error",
     "traceback": [
      "\u001b[1;31m---------------------------------------------------------------------------\u001b[0m",
      "\u001b[1;31mTypeError\u001b[0m                                 Traceback (most recent call last)",
      "Cell \u001b[1;32mIn[2], line 16\u001b[0m\n\u001b[0;32m     14\u001b[0m G_cvar \u001b[38;5;241m=\u001b[39m matrix(np\u001b[38;5;241m.\u001b[39mvstack([sigma \u001b[38;5;241m@\u001b[39m Z] \u001b[38;5;241m*\u001b[39m \u001b[38;5;241m2\u001b[39m))\n\u001b[0;32m     15\u001b[0m h_cvar \u001b[38;5;241m=\u001b[39m matrix(np\u001b[38;5;241m.\u001b[39mones(m) \u001b[38;5;241m*\u001b[39m \u001b[38;5;241m3\u001b[39m \u001b[38;5;241m*\u001b[39m \u001b[38;5;241m0.05\u001b[39m \u001b[38;5;241m/\u001b[39m m)  \u001b[38;5;66;03m# Simplified CVaR\u001b[39;00m\n\u001b[1;32m---> 16\u001b[0m sol \u001b[38;5;241m=\u001b[39m \u001b[43msolvers\u001b[49m\u001b[38;5;241;43m.\u001b[39;49m\u001b[43mqp\u001b[49m\u001b[43m(\u001b[49m\u001b[43mP\u001b[49m\u001b[43m,\u001b[49m\u001b[43m \u001b[49m\u001b[43mq\u001b[49m\u001b[43m,\u001b[49m\u001b[43m \u001b[49m\u001b[43mG\u001b[49m\u001b[43m,\u001b[49m\u001b[43m \u001b[49m\u001b[43mh\u001b[49m\u001b[43m)\u001b[49m  \u001b[38;5;66;03m# Note: CVaR needs full QP setup\u001b[39;00m\n\u001b[0;32m     17\u001b[0m w_plus \u001b[38;5;241m=\u001b[39m np\u001b[38;5;241m.\u001b[39marray(sol[\u001b[38;5;124m'\u001b[39m\u001b[38;5;124mx\u001b[39m\u001b[38;5;124m'\u001b[39m][:n])\n\u001b[0;32m     18\u001b[0m w_minus \u001b[38;5;241m=\u001b[39m np\u001b[38;5;241m.\u001b[39marray(sol[\u001b[38;5;124m'\u001b[39m\u001b[38;5;124mx\u001b[39m\u001b[38;5;124m'\u001b[39m][n:])\n",
      "File \u001b[1;32mc:\\Python311\\Lib\\site-packages\\cvxopt\\coneprog.py:4485\u001b[0m, in \u001b[0;36mqp\u001b[1;34m(P, q, G, h, A, b, solver, kktsolver, initvals, **kwargs)\u001b[0m\n\u001b[0;32m   4475\u001b[0m         pinfres, dinfres \u001b[38;5;241m=\u001b[39m \u001b[38;5;28;01mNone\u001b[39;00m, \u001b[38;5;28;01mNone\u001b[39;00m\n\u001b[0;32m   4477\u001b[0m     \u001b[38;5;28;01mreturn\u001b[39;00m {\u001b[38;5;124m'\u001b[39m\u001b[38;5;124mstatus\u001b[39m\u001b[38;5;124m'\u001b[39m: status, \u001b[38;5;124m'\u001b[39m\u001b[38;5;124mx\u001b[39m\u001b[38;5;124m'\u001b[39m: x, \u001b[38;5;124m'\u001b[39m\u001b[38;5;124ms\u001b[39m\u001b[38;5;124m'\u001b[39m: s, \u001b[38;5;124m'\u001b[39m\u001b[38;5;124my\u001b[39m\u001b[38;5;124m'\u001b[39m: y, \u001b[38;5;124m'\u001b[39m\u001b[38;5;124mz\u001b[39m\u001b[38;5;124m'\u001b[39m: z,\n\u001b[0;32m   4478\u001b[0m         \u001b[38;5;124m'\u001b[39m\u001b[38;5;124mprimal objective\u001b[39m\u001b[38;5;124m'\u001b[39m: pcost, \u001b[38;5;124m'\u001b[39m\u001b[38;5;124mdual objective\u001b[39m\u001b[38;5;124m'\u001b[39m: dcost,\n\u001b[0;32m   4479\u001b[0m         \u001b[38;5;124m'\u001b[39m\u001b[38;5;124mgap\u001b[39m\u001b[38;5;124m'\u001b[39m: gap, \u001b[38;5;124m'\u001b[39m\u001b[38;5;124mrelative gap\u001b[39m\u001b[38;5;124m'\u001b[39m: relgap,\n\u001b[1;32m   (...)\u001b[0m\n\u001b[0;32m   4482\u001b[0m         \u001b[38;5;124m'\u001b[39m\u001b[38;5;124mresidual as primal infeasibility certificate\u001b[39m\u001b[38;5;124m'\u001b[39m: pinfres,\n\u001b[0;32m   4483\u001b[0m         \u001b[38;5;124m'\u001b[39m\u001b[38;5;124mresidual as dual infeasibility certificate\u001b[39m\u001b[38;5;124m'\u001b[39m: dinfres}\n\u001b[1;32m-> 4485\u001b[0m \u001b[38;5;28;01mreturn\u001b[39;00m \u001b[43mconeqp\u001b[49m\u001b[43m(\u001b[49m\u001b[43mP\u001b[49m\u001b[43m,\u001b[49m\u001b[43m \u001b[49m\u001b[43mq\u001b[49m\u001b[43m,\u001b[49m\u001b[43m \u001b[49m\u001b[43mG\u001b[49m\u001b[43m,\u001b[49m\u001b[43m \u001b[49m\u001b[43mh\u001b[49m\u001b[43m,\u001b[49m\u001b[43m \u001b[49m\u001b[38;5;28;43;01mNone\u001b[39;49;00m\u001b[43m,\u001b[49m\u001b[43m \u001b[49m\u001b[43mA\u001b[49m\u001b[43m,\u001b[49m\u001b[43m  \u001b[49m\u001b[43mb\u001b[49m\u001b[43m,\u001b[49m\u001b[43m \u001b[49m\u001b[43minitvals\u001b[49m\u001b[43m,\u001b[49m\u001b[43m \u001b[49m\u001b[43mkktsolver\u001b[49m\u001b[43m \u001b[49m\u001b[38;5;241;43m=\u001b[39;49m\u001b[43m \u001b[49m\u001b[43mkktsolver\u001b[49m\u001b[43m,\u001b[49m\u001b[43m \u001b[49m\u001b[43moptions\u001b[49m\u001b[43m \u001b[49m\u001b[38;5;241;43m=\u001b[39;49m\u001b[43m \u001b[49m\u001b[43moptions\u001b[49m\u001b[43m)\u001b[49m\n",
      "File \u001b[1;32mc:\\Python311\\Lib\\site-packages\\cvxopt\\coneprog.py:1894\u001b[0m, in \u001b[0;36mconeqp\u001b[1;34m(P, q, G, h, dims, A, b, initvals, kktsolver, xnewcopy, xdot, xaxpy, xscal, ynewcopy, ydot, yaxpy, yscal, **kwargs)\u001b[0m\n\u001b[0;32m   1892\u001b[0m \u001b[38;5;28;01mif\u001b[39;00m matrixG:\n\u001b[0;32m   1893\u001b[0m     \u001b[38;5;28;01mif\u001b[39;00m G\u001b[38;5;241m.\u001b[39mtypecode \u001b[38;5;241m!=\u001b[39m \u001b[38;5;124m'\u001b[39m\u001b[38;5;124md\u001b[39m\u001b[38;5;124m'\u001b[39m \u001b[38;5;129;01mor\u001b[39;00m G\u001b[38;5;241m.\u001b[39msize \u001b[38;5;241m!=\u001b[39m (cdim, q\u001b[38;5;241m.\u001b[39msize[\u001b[38;5;241m0\u001b[39m]):\n\u001b[1;32m-> 1894\u001b[0m         \u001b[38;5;28;01mraise\u001b[39;00m \u001b[38;5;167;01mTypeError\u001b[39;00m(\u001b[38;5;124m\"\u001b[39m\u001b[38;5;124m'\u001b[39m\u001b[38;5;124mG\u001b[39m\u001b[38;5;124m'\u001b[39m\u001b[38;5;124m must be a \u001b[39m\u001b[38;5;124m'\u001b[39m\u001b[38;5;124md\u001b[39m\u001b[38;5;124m'\u001b[39m\u001b[38;5;124m matrix of size (\u001b[39m\u001b[38;5;132;01m%d\u001b[39;00m\u001b[38;5;124m, \u001b[39m\u001b[38;5;132;01m%d\u001b[39;00m\u001b[38;5;124m)\u001b[39m\u001b[38;5;124m\"\u001b[39m\\\n\u001b[0;32m   1895\u001b[0m             \u001b[38;5;241m%\u001b[39m(cdim, q\u001b[38;5;241m.\u001b[39msize[\u001b[38;5;241m0\u001b[39m]))\n\u001b[0;32m   1896\u001b[0m     \u001b[38;5;28;01mdef\u001b[39;00m \u001b[38;5;21mfG\u001b[39m(x, y, trans \u001b[38;5;241m=\u001b[39m \u001b[38;5;124m'\u001b[39m\u001b[38;5;124mN\u001b[39m\u001b[38;5;124m'\u001b[39m, alpha \u001b[38;5;241m=\u001b[39m \u001b[38;5;241m1.0\u001b[39m, beta \u001b[38;5;241m=\u001b[39m \u001b[38;5;241m0.0\u001b[39m):\n\u001b[0;32m   1897\u001b[0m         misc\u001b[38;5;241m.\u001b[39msgemv(G, x, y, dims, trans \u001b[38;5;241m=\u001b[39m trans, alpha \u001b[38;5;241m=\u001b[39m alpha,\n\u001b[0;32m   1898\u001b[0m             beta \u001b[38;5;241m=\u001b[39m beta)\n",
      "\u001b[1;31mTypeError\u001b[0m: 'G' must be a 'd' matrix of size (21, 10)"
     ]
    }
   ],
   "source": [
    "# CVXOPT QP with CVaR approximation\n",
    "m = 100  # Scenarios\n",
    "Z = np.random.normal(0, 1, (n, m))  # Random shocks\n",
    "P = matrix(0.0, (2*n, 2*n))  # No quadratic objective\n",
    "q = matrix(np.concatenate([-(r - r_f) + c, (r - r_f) + c]))  # Negate for maximization\n",
    "G = matrix(np.vstack([\n",
    "    -np.eye(2*n),  # w+, w- >= 0\n",
    "    np.block([[np.eye(n), -np.eye(n)]]),  # Haircut\n",
    "    np.block([[np.eye(n), np.eye(n)]]) / 50,  # Leverage\n",
    "    np.block([[np.eye(n), -np.eye(n)]]) / 50  # Liquidity\n",
    "]))\n",
    "h = matrix(np.hstack([np.zeros(2*n), [0.02]*n, [250/50], L/50]))\n",
    "# CVaR constraints (simplified)\n",
    "G_cvar = matrix(np.vstack([sigma @ Z] * 2))\n",
    "h_cvar = matrix(np.ones(m) * 3 * 0.05 / m)  # Simplified CVaR\n",
    "sol = solvers.qp(P, q, G, h)  # Note: CVaR needs full QP setup\n",
    "w_plus = np.array(sol['x'][:n])\n",
    "w_minus = np.array(sol['x'][n:])\n",
    "w = w_plus - w_minus\n",
    "spread = (r - r_f) @ w - c @ (w_plus + w_minus)\n",
    "print(f\"Weights: {w.flatten()}\")\n",
    "print(f\"Net Spread: {spread}\")"
   ]
  },
  {
   "cell_type": "markdown",
   "metadata": {},
   "source": [
    "## Insights\n",
    "\n",
    "- **Relative Value**: Exploits yield-repo spreads.\n",
    "- **Risk**: CVaR ensures tail risk control.\n",
    "- **Balyasny Fit**: Data-driven, systematic, multi-strategy focus."
   ]
  }
 ],
 "metadata": {
  "kernelspec": {
   "display_name": "Python 3",
   "language": "python",
   "name": "python3"
  },
  "language_info": {
   "codemirror_mode": {
    "name": "ipython",
    "version": 3
   },
   "file_extension": ".py",
   "mimetype": "text/x-python",
   "name": "python",
   "nbconvert_exporter": "python",
   "pygments_lexer": "ipython3",
   "version": "3.11.3"
  }
 },
 "nbformat": 4,
 "nbformat_minor": 4
}
