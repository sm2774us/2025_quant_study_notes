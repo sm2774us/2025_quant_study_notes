{
 "cells": [
  {
   "cell_type": "markdown",
   "metadata": {},
   "source": [
    "# Treasury Trading Optimization: Python Comparison\n",
    "This notebook compares optimization engines (MOSEK, Gurobi, CPLEX, Xpress, SCIP, CVXOPT, KNITRO) for a convex optimization problem in treasury trading using 2024 U.S. Treasury real yield curve data. The objective is to minimize funding costs while accounting for haircuts, interest rates, and transfer fees."
   ]
  },
  {
   "cell_type": "code",
   "execution_count": null,
   "metadata": {},
   "outputs": [],
   "source": [
    "!pip install pandas numpy requests mosek gurobipy cplex fico-xpress pyscipopt cvxopt knitro matplotlib seaborn"
   ]
  },
  {
   "cell_type": "markdown",
   "metadata": {},
   "source": [
    "## Data Retrieval"
   ]
  },
  {
   "cell_type": "code",
   "execution_count": null,
   "metadata": {},
   "outputs": [],
   "source": [
    "import pandas as pd\n",
    "import requests\n",
    "\n",
    "# URL for 2024 Treasury real yield curve data\n",
    "url = \"https://home.treasury.gov/resource-center/data-chart-center/interest-rates/daily-treasury-rates.csv/2024/all?type=daily_treasury_real_yield_curve&field_tdr_date_value=2024&page&_format=csv\"\n",
    "response = requests.get(url)\n",
    "with open(\"treasury_2024.csv\", \"wb\") as f:\n",
    "    f.write(response.content)\n",
    "\n",
    "# Load and process data\n",
    "data = pd.read_csv(\"treasury_2024.csv\")\n",
    "data[\"Date\"] = pd.to_datetime(data[\"Date\"])\n",
    "rates = data[[\"Date\", \"5 Yr\", \"10 Yr\", \"20 Yr\", \"30 Yr\"]].dropna()\n",
    "print(rates.tail())"
   ]
  },
  {
   "cell_type": "markdown",
   "metadata": {},
   "source": [
    "## Problem Definition\n",
    "- **Objective**: Minimize funding costs = $\\sum (w_i \\cdot r_i + f_i)$\n",
    "- **Constraints**:\n",
    "  - $\\sum w_i = 1$ (full allocation)\n",
    "  - $w_i \\geq h_i = 0.02$ (haircut constraint)\n",
    "  - $w_i \\geq 0$ (non-negative weights)\n",
    "- **Parameters**:\n",
    "  - $r_i$: Latest real yields (5, 10, 20, 30-year treasuries)\n",
    "  - $h_i = 0.02$: Haircut of 2%\n",
    "  - $f_i = 0.001$: Transfer fee of 0.1%"
   ]
  },
  {
   "cell_type": "code",
   "execution_count": null,
   "metadata": {},
   "outputs": [],
   "source": [
    "import numpy as np\n",
    "r = rates.iloc[-1, 1:].values / 100  # Latest rates in decimal\n",
    "h = np.array([0.02] * 4)  # Haircuts\n",
    "f = np.array([0.001] * 4)  # Fees\n",
    "n = len(r)"
   ]
  },
  {
   "cell_type": "markdown",
   "metadata": {},
   "source": [
    "## Optimization Engines"
   ]
  },
  {
   "cell_type": "code",
   "execution_count": null,
   "metadata": {},
   "outputs": [],
   "source": [
    "# MOSEK\n",
    "from mosek.fusion import Model, Domain, Expr\n",
    "with Model(\"TreasuryOpt\") as M:\n",
    "    w = M.variable(\"w\", n, Domain.greaterThan(0.0))\n",
    "    M.constraint(\"budget\", Expr.sum(w), Domain.equalsTo(1.0))\n",
    "    M.constraint(\"haircut\", w, Domain.greaterThan(h))\n",
    "    cost = Expr.add(Expr.dot(w, r), Expr.constTerm(f.sum()))\n",
    "    M.objective(\"obj\", ObjectiveSense.Minimize, cost)\n",
    "    M.solve()\n",
    "    w_mosek = w.level()\n",
    "    cost_mosek = M.primalObjValue()\n",
    "print(f\"MOSEK: Weights = {w_mosek}, Cost = {cost_mosek}\")"
   ]
  },
  {
   "cell_type": "code",
   "execution_count": null,
   "metadata": {},
   "outputs": [],
   "source": [
    "# Gurobi\n",
    "from gurobipy import Model, GRB\n",
    "m = Model(\"TreasuryOpt\")\n",
    "w = m.addVars(n, lb=0, name=\"w\")\n",
    "m.addConstr(sum(w[i] for i in range(n)) == 1, \"budget\")\n",
    "for i in range(n):\n",
    "    m.addConstr(w[i] >= h[i], f\"haircut_{i}\")\n",
    "m.setObjective(sum(w[i] * r[i] for i in range(n)) + f.sum(), GRB.MINIMIZE)\n",
    "m.optimize()\n",
    "w_gurobi = [w[i].x for i in range(n)]\n",
    "cost_gurobi = m.objVal\n",
    "print(f\"Gurobi: Weights = {w_gurobi}, Cost = {cost_gurobi}\")"
   ]
  },
  {
   "cell_type": "code",
   "execution_count": null,
   "metadata": {},
   "outputs": [],
   "source": [
    "# CPLEX\n",
    "from cplex import Cplex\n",
    "cp = Cplex()\n",
    "w_idx = list(range(n))\n",
    "cp.variables.add(names=[f\"w_{i}\" for i in w_idx], lb=[0]*n)\n",
    "cp.linear_constraints.add(lin_expr=[[ [\"w_\" + str(i) for i in w_idx], [1]*n]], senses=[\"E\"], rhs=[1])\n",
    "for i in w_idx:\n",
    "    cp.linear_constraints.add(lin_expr=[[ [f\"w_{i}\"], [1]]], senses=[\"G\"], rhs=[h[i]])\n",
    "cp.objective.set_sense(cp.objective.sense.minimize)\n",
    "cp.objective.set_linear([(f\"w_{i}\", r[i]) for i in w_idx])\n",
    "cp.objective.set_offset(f.sum())\n",
    "cp.solve()\n",
    "w_cplex = cp.solution.get_values()\n",
    "cost_cplex = cp.solution.get_objective_value()\n",
    "print(f\"CPLEX: Weights = {w_cplex}, Cost = {cost_cplex}\")"
   ]
  },
  {
   "cell_type": "code",
   "execution_count": null,
   "metadata": {},
   "outputs": [],
   "source": [
    "# Xpress\n",
    "import xpress as xp\n",
    "p = xp.problem()\n",
    "w = [xp.var(lb=0) for _ in range(n)]\n",
    "p.addVariable(w)\n",
    "p.addConstraint(xp.Sum(w) == 1)\n",
    "for i in range(n):\n",
    "    p.addConstraint(w[i] >= h[i])\n",
    "p.setObjective(xp.Sum(w[i] * r[i] for i in range(n)) + f.sum(), sense=xp.minimize)\n",
    "p.solve()\n",
    "w_xpress = [p.getSolution(w[i]) for i in range(n)]\n",
    "cost_xpress = p.getObjVal()\n",
    "print(f\"Xpress: Weights = {w_xpress}, Cost = {cost_xpress}\")"
   ]
  },
  {
   "cell_type": "code",
   "execution_count": null,
   "metadata": {},
   "outputs": [],
   "source": [
    "# SCIP\n",
    "from pyscipopt import Model\n",
    "m = Model(\"TreasuryOpt\")\n",
    "w = [m.addVar(f\"w_{i}\", lb=0) for i in range(n)]\n",
    "m.addCons(sum(w) == 1, \"budget\")\n",
    "for i in range(n):\n",
    "    m.addCons(w[i] >= h[i], f\"haircut_{i}\")\n",
    "m.setObjective(sum(w[i] * r[i] for i in range(n)) + f.sum(), \"minimize\")\n",
    "m.optimize()\n",
    "w_scip = [m.getVal(w[i]) for i in range(n)]\n",
    "cost_scip = m.getObjVal()\n",
    "print(f\"SCIP: Weights = {w_scip}, Cost = {cost_scip}\")"
   ]
  },
  {
   "cell_type": "code",
   "execution_count": null,
   "metadata": {},
   "outputs": [],
   "source": [
    "# CVXOPT\n",
    "from cvxopt import matrix, solvers\n",
    "P = matrix(0.0, (n, n))  # No quadratic term\n",
    "q = matrix(r + f)\n",
    "G = matrix(np.vstack([-np.eye(n), np.ones((1, n))]))\n",
    "h_cvx = matrix(np.hstack([-h, [1]]))\n",
    "A = matrix(1.0, (1, n))\n",
    "b = matrix(1.0)\n",
    "sol = solvers.qp(P, q, G, h_cvx, A, b)\n",
    "w_cvxopt = np.array(sol[\"x\"]).flatten()\n",
    "cost_cvxopt = (r @ w_cvxopt + f.sum())\n",
    "print(f\"CVXOPT: Weights = {w_cvxopt}, Cost = {cost_cvxopt}\")"
   ]
  },
  {
   "cell_type": "code",
   "execution_count": null,
   "metadata": {},
   "outputs": [],
   "source": [
    "# KNITRO\n",
    "from knitro import *\n",
    "kc = KN_new()\n",
    "var = [KN_add_var(kc) for _ in range(n)]\n",
    "KN_add_con(kc, lambda x: sum(x) - 1, [var])\n",
    "for i in range(n):\n",
    "    KN_add_con(kc, lambda x, i=i: x[i] - h[i], [[var[i]]])\n",
    "KN_set_obj(kc, lambda x: sum(x[i] * r[i] for i in range(n)) + f.sum())\n",
    "KN_set_var_lobnds(kc, var, [0]*n)\n",
    "KN_solve(kc)\n",
    "w_knitro = KN_get_solution(kc)[1]\n",
    "cost_knitro = KN_get_obj_value(kc)\n",
    "print(f\"KNITRO: Weights = {w_knitro}, Cost = {cost_knitro}\")\n",
    "KN_free(kc)"
   ]
  },
  {
   "cell_type": "markdown",
   "metadata": {},
   "source": [
    "## Results and Visualization"
   ]
  },
  {
   "cell_type": "code",
   "execution_count": null,
   "metadata": {},
   "outputs": [],
   "source": [
    "results = {\n",
    "    \"MOSEK\": (w_mosek, cost_mosek),\n",
    "    \"Gurobi\": (w_gurobi, cost_gurobi),\n",
    "    \"CPLEX\": (w_cplex, cost_cplex),\n",
    "    \"Xpress\": (w_xpress, cost_xpress),\n",
    "    \"SCIP\": (w_scip, cost_scip),\n",
    "    \"CVXOPT\": (w_cvxopt, cost_cvxopt),\n",
    "    \"KNITRO\": (w_knitro, cost_knitro)\n",
    "}\n",
    "\n",
    "# Cost comparison\n",
    "df_cost = pd.DataFrame({k: [v[1]] for k, v in results.items()}, index=[\"Cost\"]).T\n",
    "\n",
    "import matplotlib.pyplot as plt\n",
    "import seaborn as sns\n",
    "\n",
    "plt.figure(figsize=(10, 6))\n",
    "sns.barplot(x=df_cost.index, y=\"Cost\", data=df_cost)\n",
    "plt.title(\"Optimization Engine Cost Comparison (Feb 19, 2025)\")\n",
    "plt.ylabel(\"Total Funding Cost\")\n",
    "plt.xticks(rotation=45)\n",
    "plt.tight_layout()\n",
    "plt.show()\n",
    "\n",
    "# Weights comparison\n",
    "weights_df = pd.DataFrame({k: v[0] for k, v in results.items()}, index=[\"5 Yr\", \"10 Yr\", \"20 Yr\", \"30 Yr\"]).T\n",
    "plt.figure(figsize=(12, 6))\n",
    "sns.heatmap(weights_df, annot=True, cmap=\"YlGnBu\", fmt=\".3f\")\n",
    "plt.title(\"Allocation Weights by Engine\")\n",
    "plt.tight_layout()\n",
    "plt.show()"
   ]
  },
  {
   "cell_type": "markdown",
   "metadata": {},
   "source": [
    "## Notes\n",
    "- **Data**: Latest rates from 2024 used. Adjust URL if format changes.\n",
    "- **Licenses**: MOSEK, Gurobi, CPLEX, Xpress, KNITRO need licenses; SCIP and CVXOPT are free.\n",
    "- **Performance**: All solvers should yield similar results for this linear problem."
   ]
  }
 ],
 "metadata": {
  "kernelspec": {
   "display_name": "Python 3",
   "language": "python",
   "name": "python3"
  },
  "language_info": {
   "codemirror_mode": {
    "name": "ipython",
    "version": 3
   },
   "file_extension": ".py",
   "mimetype": "text/x-python",
   "name": "python",
   "nbconvert_exporter": "python",
   "pygments_lexer": "ipython3",
   "version": "3.8.0"
  }
 },
 "nbformat": 4,
 "nbformat_minor": 4
}