{
 "cells": [
  {
   "cell_type": "markdown",
   "metadata": {},
   "source": [
    "# Treasury Trading Optimization: Python Comparison\n",
    "This notebook compares optimization engines (MOSEK, Gurobi, CPLEX, Xpress, SCIP, CVXOPT, KNITRO) for a convex optimization problem in treasury trading using 2024 U.S. Treasury real yield curve data. The objective is to minimize funding costs while accounting for haircuts, interest rates, and transfer fees."
   ]
  },
  {
   "cell_type": "code",
   "execution_count": 41,
   "metadata": {},
   "outputs": [
    {
     "name": "stdout",
     "output_type": "stream",
     "text": [
      "Requirement already satisfied: pandas in c:\\python311\\lib\\site-packages (2.1.4)\n",
      "Requirement already satisfied: numpy in c:\\python311\\lib\\site-packages (1.26.2)\n",
      "Requirement already satisfied: requests in c:\\python311\\lib\\site-packages (2.31.0)\n",
      "Requirement already satisfied: mosek in c:\\python311\\lib\\site-packages (11.0.8)\n",
      "Requirement already satisfied: gurobipy in c:\\python311\\lib\\site-packages (12.0.1)\n",
      "Requirement already satisfied: cplex in c:\\python311\\lib\\site-packages (22.1.2.0)\n",
      "Requirement already satisfied: pyscipopt in c:\\python311\\lib\\site-packages (5.3.0)\n",
      "Requirement already satisfied: cvxopt in c:\\python311\\lib\\site-packages (1.3.2)\n",
      "Requirement already satisfied: matplotlib in c:\\python311\\lib\\site-packages (3.8.2)\n",
      "Requirement already satisfied: seaborn in c:\\python311\\lib\\site-packages (0.13.2)\n",
      "Requirement already satisfied: python-dateutil>=2.8.2 in c:\\python311\\lib\\site-packages (from pandas) (2.8.2)\n",
      "Requirement already satisfied: pytz>=2020.1 in c:\\python311\\lib\\site-packages (from pandas) (2023.3.post1)\n",
      "Requirement already satisfied: tzdata>=2022.1 in c:\\python311\\lib\\site-packages (from pandas) (2023.4)\n",
      "Requirement already satisfied: charset-normalizer<4,>=2 in c:\\python311\\lib\\site-packages (from requests) (3.1.0)\n",
      "Requirement already satisfied: idna<4,>=2.5 in c:\\python311\\lib\\site-packages (from requests) (3.4)\n",
      "Requirement already satisfied: urllib3<3,>=1.21.1 in c:\\python311\\lib\\site-packages (from requests) (1.26.16)\n",
      "Requirement already satisfied: certifi>=2017.4.17 in c:\\python311\\lib\\site-packages (from requests) (2023.5.7)\n",
      "Requirement already satisfied: contourpy>=1.0.1 in c:\\python311\\lib\\site-packages (from matplotlib) (1.2.0)\n",
      "Requirement already satisfied: cycler>=0.10 in c:\\python311\\lib\\site-packages (from matplotlib) (0.12.1)\n",
      "Requirement already satisfied: fonttools>=4.22.0 in c:\\python311\\lib\\site-packages (from matplotlib) (4.47.0)\n",
      "Requirement already satisfied: kiwisolver>=1.3.1 in c:\\python311\\lib\\site-packages (from matplotlib) (1.4.5)\n",
      "Requirement already satisfied: packaging>=20.0 in c:\\python311\\lib\\site-packages (from matplotlib) (23.1)\n",
      "Requirement already satisfied: pillow>=8 in c:\\python311\\lib\\site-packages (from matplotlib) (10.1.0)\n",
      "Requirement already satisfied: pyparsing>=2.3.1 in c:\\python311\\lib\\site-packages (from matplotlib) (3.1.1)\n",
      "Requirement already satisfied: six>=1.5 in c:\\python311\\lib\\site-packages (from python-dateutil>=2.8.2->pandas) (1.16.0)\n"
     ]
    },
    {
     "name": "stderr",
     "output_type": "stream",
     "text": [
      "\n",
      "[notice] A new release of pip available: 22.3.1 -> 25.0.1\n",
      "[notice] To update, run: python.exe -m pip install --upgrade pip\n"
     ]
    }
   ],
   "source": [
    "!pip install pandas numpy requests mosek gurobipy cplex pyscipopt cvxopt matplotlib seaborn"
   ]
  },
  {
   "cell_type": "markdown",
   "metadata": {},
   "source": [
    "## Data Retrieval"
   ]
  },
  {
   "cell_type": "code",
   "execution_count": 42,
   "metadata": {},
   "outputs": [
    {
     "name": "stdout",
     "output_type": "stream",
     "text": [
      "Available columns in the CSV: ['Date', '5 YR', '7 YR', '10 YR', '20 YR', '30 YR']\n",
      "          Date  5 YR  7 YR  10 YR  20 YR  30 YR\n",
      "245 2024-01-08  1.78  1.79   1.79   1.90   1.98\n",
      "246 2024-01-05  1.83  1.83   1.83   1.94   2.02\n",
      "247 2024-01-04  1.79  1.78   1.77   1.88   1.96\n",
      "248 2024-01-03  1.73  1.71   1.71   1.81   1.89\n",
      "249 2024-01-02  1.76  1.75   1.74   1.84   1.91\n"
     ]
    }
   ],
   "source": [
    "import pandas as pd\n",
    "import requests\n",
    "\n",
    "# URL for 2024 Treasury real yield curve data\n",
    "url = \"https://home.treasury.gov/resource-center/data-chart-center/interest-rates/daily-treasury-rates.csv/2024/all?type=daily_treasury_real_yield_curve&field_tdr_date_value=2024&page&_format=csv\"\n",
    "response = requests.get(url)\n",
    "\n",
    "# Check if the request was successful\n",
    "if response.status_code != 200:\n",
    "    raise Exception(f\"Failed to fetch data: HTTP {response.status_code}\")\n",
    "\n",
    "# Save the content to a file\n",
    "with open(\"treasury_2024.csv\", \"wb\") as f:\n",
    "    f.write(response.content)\n",
    "\n",
    "# Load and process data\n",
    "data = pd.read_csv(\"treasury_2024.csv\")\n",
    "\n",
    "# Print column names to debug\n",
    "print(\"Available columns in the CSV:\", data.columns.tolist())\n",
    "\n",
    "# Convert \"Date\" column to datetime\n",
    "if \"Date\" not in data.columns:\n",
    "    raise KeyError(\"Column 'Date' not found in the CSV\")\n",
    "data[\"Date\"] = pd.to_datetime(data[\"Date\"])\n",
    "\n",
    "# Define expected maturity columns based on your sample\n",
    "expected_columns = [\"Date\", \"5 YR\", \"7 YR\", \"10 YR\", \"20 YR\", \"30 YR\"]\n",
    "\n",
    "# Check if all expected columns are present\n",
    "missing_columns = [col for col in expected_columns if col not in data.columns]\n",
    "if missing_columns:\n",
    "    raise KeyError(f\"Columns {missing_columns} not found in the CSV\")\n",
    "\n",
    "# Select and clean the data\n",
    "rates = data[expected_columns].dropna()\n",
    "print(rates.tail())"
   ]
  },
  {
   "cell_type": "markdown",
   "metadata": {},
   "source": [
    "## Problem Definition\n",
    "- **Objective**: Minimize funding costs = $\\sum (w_i \\cdot r_i + f_i)$\n",
    "- **Constraints**:\n",
    "  - $\\sum w_i = 1$ (full allocation)\n",
    "  - $w_i \\geq h_i = 0.02$ (haircut constraint)\n",
    "  - $w_i \\geq 0$ (non-negative weights)\n",
    "- **Parameters**:\n",
    "  - $r_i$: Latest real yields (5, 10, 20, 30-year treasuries)\n",
    "  - $h_i = 0.02$: Haircut of 2%\n",
    "  - $f_i = 0.001$: Transfer fee of 0.1%"
   ]
  },
  {
   "cell_type": "code",
   "execution_count": 43,
   "metadata": {},
   "outputs": [],
   "source": [
    "import numpy as np\n",
    "# ... (after data retrieval)\n",
    "r = rates.iloc[-1, 1:].values / 100  # [0.02, 0.0213, 0.0224, 0.0240, 0.0247] from 12/30/2024\n",
    "h = np.array([0.02] * 5)  # Haircuts for 5 maturities\n",
    "f = np.array([0.001] * 5)  # Fees for 5 maturities\n",
    "n = len(r)  # Now 5\n",
    "# ... (rest of the optimization code remains the same, just with 5 variables)"
   ]
  },
  {
   "cell_type": "markdown",
   "metadata": {},
   "source": [
    "## Optimization Engines"
   ]
  },
  {
   "cell_type": "code",
   "execution_count": 44,
   "metadata": {},
   "outputs": [
    {
     "name": "stdout",
     "output_type": "stream",
     "text": [
      "MOSEK: Weights = [0.02 0.02 0.92 0.02 0.02], Cost = 0.022459999999999997\n"
     ]
    }
   ],
   "source": [
    "# MOSEK\n",
    "# from mosek.fusion import Model, Domain, Expr\n",
    "# with Model(\"TreasuryOpt\") as M:\n",
    "#     w = M.variable(\"w\", n, Domain.greaterThan(0.0))\n",
    "#     M.constraint(\"budget\", Expr.sum(w), Domain.equalsTo(1.0))\n",
    "#     M.constraint(\"haircut\", w, Domain.greaterThan(h))\n",
    "#     cost = Expr.add(Expr.dot(w, r), Expr.constTerm(f.sum()))\n",
    "#     M.objective(\"obj\", ObjectiveSense.Minimize, cost)\n",
    "#     M.solve()\n",
    "#     w_mosek = w.level()\n",
    "#     cost_mosek = M.primalObjValue()\n",
    "# print(f\"MOSEK: Weights = {w_mosek}, Cost = {cost_mosek}\")\n",
    "\n",
    "# MOSEK\n",
    "from mosek.fusion import Model, Domain, Expr, ObjectiveSense\n",
    "import numpy as np\n",
    "\n",
    "# Assuming r, h, f, and n are defined earlier\n",
    "# Ensure r is a float64 array\n",
    "r = rates.iloc[-1, 1:].values.astype(np.float64) / 100  # Convert to float and scale\n",
    "h = np.array([0.02] * len(r))  # Haircuts\n",
    "f = np.array([0.001] * len(r))  # Fees\n",
    "n = len(r)\n",
    "\n",
    "with Model(\"TreasuryOpt\") as M:\n",
    "    w = M.variable(\"w\", n, Domain.greaterThan(0.0))\n",
    "    M.constraint(\"budget\", Expr.sum(w), Domain.equalsTo(1.0))\n",
    "    M.constraint(\"haircut\", w, Domain.greaterThan(h))\n",
    "    # Ensure r is a float array for dot product\n",
    "    cost = Expr.add(Expr.dot(w, r.astype(np.float64)), Expr.constTerm(f.sum()))\n",
    "    M.objective(\"obj\", ObjectiveSense.Minimize, cost)\n",
    "    M.solve()\n",
    "    w_mosek = w.level()\n",
    "    cost_mosek = M.primalObjValue()\n",
    "print(f\"MOSEK: Weights = {w_mosek}, Cost = {cost_mosek}\")"
   ]
  },
  {
   "cell_type": "code",
   "execution_count": 45,
   "metadata": {},
   "outputs": [
    {
     "name": "stdout",
     "output_type": "stream",
     "text": [
      "Gurobi Optimizer version 12.0.1 build v12.0.1rc0 (win64 - Windows 11.0 (26100.2))\n",
      "\n",
      "CPU model: 11th Gen Intel(R) Core(TM) i7-1195G7 @ 2.90GHz, instruction set [SSE2|AVX|AVX2|AVX512]\n",
      "Thread count: 4 physical cores, 8 logical processors, using up to 8 threads\n",
      "\n",
      "Optimize a model with 6 rows, 5 columns and 10 nonzeros\n",
      "Model fingerprint: 0x7b02b46c\n",
      "Coefficient statistics:\n",
      "  Matrix range     [1e+00, 1e+00]\n",
      "  Objective range  [2e-02, 2e-02]\n",
      "  Bounds range     [0e+00, 0e+00]\n",
      "  RHS range        [2e-02, 1e+00]\n",
      "Presolve removed 6 rows and 5 columns\n",
      "Presolve time: 0.00s\n",
      "Presolve: All rows and columns removed\n",
      "Iteration    Objective       Primal Inf.    Dual Inf.      Time\n",
      "       0    2.2460000e-02   0.000000e+00   0.000000e+00      0s\n",
      "\n",
      "Solved in 0 iterations and 0.01 seconds (0.00 work units)\n",
      "Optimal objective  2.246000000e-02\n",
      "Gurobi: Weights = [0.02, 0.02, 0.9199999999999999, 0.02, 0.02], Cost = 0.02246\n"
     ]
    }
   ],
   "source": [
    "# Gurobi\n",
    "from gurobipy import Model, GRB\n",
    "m = Model(\"TreasuryOpt\")\n",
    "w = m.addVars(n, lb=0, name=\"w\")\n",
    "m.addConstr(sum(w[i] for i in range(n)) == 1, \"budget\")\n",
    "for i in range(n):\n",
    "    m.addConstr(w[i] >= h[i], f\"haircut_{i}\")\n",
    "m.setObjective(sum(w[i] * r[i] for i in range(n)) + f.sum(), GRB.MINIMIZE)\n",
    "m.optimize()\n",
    "w_gurobi = [w[i].x for i in range(n)]\n",
    "cost_gurobi = m.objVal\n",
    "print(f\"Gurobi: Weights = {w_gurobi}, Cost = {cost_gurobi}\")"
   ]
  },
  {
   "cell_type": "code",
   "execution_count": 46,
   "metadata": {},
   "outputs": [
    {
     "name": "stdout",
     "output_type": "stream",
     "text": [
      "Version identifier: 22.1.2.0 | 2024-12-09 | 8bd2200c8\n",
      "CPXPARAM_Read_DataCheck                          1\n",
      "Tried aggregator 1 time.\n",
      "LP Presolve eliminated 6 rows and 5 columns.\n",
      "All rows and columns eliminated.\n",
      "Presolve time = 0.00 sec. (0.00 ticks)\n",
      "CPLEX: Weights = [0.02, 0.02, 0.9199999999999999, 0.02, 0.02], Cost = 0.022459999999999997\n"
     ]
    }
   ],
   "source": [
    "# CPLEX\n",
    "from cplex import Cplex\n",
    "cp = Cplex()\n",
    "w_idx = list(range(n))\n",
    "cp.variables.add(names=[f\"w_{i}\" for i in w_idx], lb=[0]*n)\n",
    "cp.linear_constraints.add(lin_expr=[[ [\"w_\" + str(i) for i in w_idx], [1]*n]], senses=[\"E\"], rhs=[1])\n",
    "for i in w_idx:\n",
    "    cp.linear_constraints.add(lin_expr=[[ [f\"w_{i}\"], [1]]], senses=[\"G\"], rhs=[h[i]])\n",
    "cp.objective.set_sense(cp.objective.sense.minimize)\n",
    "cp.objective.set_linear([(f\"w_{i}\", r[i]) for i in w_idx])\n",
    "cp.objective.set_offset(f.sum())\n",
    "cp.solve()\n",
    "w_cplex = cp.solution.get_values()\n",
    "cost_cplex = cp.solution.get_objective_value()\n",
    "print(f\"CPLEX: Weights = {w_cplex}, Cost = {cost_cplex}\")"
   ]
  },
  {
   "cell_type": "code",
   "execution_count": 47,
   "metadata": {},
   "outputs": [],
   "source": [
    "# # Xpress\n",
    "# import xpress as xp\n",
    "# p = xp.problem()\n",
    "# w = [xp.var(lb=0) for _ in range(n)]\n",
    "# p.addVariable(w)\n",
    "# p.addConstraint(xp.Sum(w) == 1)\n",
    "# for i in range(n):\n",
    "#     p.addConstraint(w[i] >= h[i])\n",
    "# p.setObjective(xp.Sum(w[i] * r[i] for i in range(n)) + f.sum(), sense=xp.minimize)\n",
    "# p.solve()\n",
    "# w_xpress = [p.getSolution(w[i]) for i in range(n)]\n",
    "# cost_xpress = p.getObjVal()\n",
    "# print(f\"Xpress: Weights = {w_xpress}, Cost = {cost_xpress}\")"
   ]
  },
  {
   "cell_type": "code",
   "execution_count": 48,
   "metadata": {},
   "outputs": [
    {
     "name": "stdout",
     "output_type": "stream",
     "text": [
      "SCIP: Weights = [0.020000000000000018, 0.020000000000000018, 0.9199999999999999, 0.020000000000000018, 0.020000000000000018], Cost = 0.022459999999999997\n"
     ]
    },
    {
     "name": "stderr",
     "output_type": "stream",
     "text": [
      "C:\\Users\\sm277\\AppData\\Local\\Temp\\ipykernel_28840\\4242572517.py:3: UserWarning: linked SCIP 9.02 is not recommended for this version of PySCIPOpt - use version 9.2.1\n",
      "  m = Model(\"TreasuryOpt\")\n"
     ]
    }
   ],
   "source": [
    "# SCIP\n",
    "from pyscipopt import Model\n",
    "m = Model(\"TreasuryOpt\")\n",
    "w = [m.addVar(f\"w_{i}\", lb=0) for i in range(n)]\n",
    "m.addCons(sum(w) == 1, \"budget\")\n",
    "for i in range(n):\n",
    "    m.addCons(w[i] >= h[i], f\"haircut_{i}\")\n",
    "m.setObjective(sum(w[i] * r[i] for i in range(n)) + f.sum(), \"minimize\")\n",
    "m.optimize()\n",
    "w_scip = [m.getVal(w[i]) for i in range(n)]\n",
    "cost_scip = m.getObjVal()\n",
    "print(f\"SCIP: Weights = {w_scip}, Cost = {cost_scip}\")"
   ]
  },
  {
   "cell_type": "code",
   "execution_count": 49,
   "metadata": {},
   "outputs": [
    {
     "name": "stdout",
     "output_type": "stream",
     "text": [
      "     pcost       dcost       gap    pres   dres\n",
      " 0:  1.8998e-02 -8.8154e-01  7e+00  2e+00  5e-16\n",
      " 1:  1.8999e-02 -6.3141e-01  7e-01  2e-02  9e-16\n",
      " 2:  1.8998e-02  1.0646e-02  8e-03  2e-04  9e-16\n",
      " 3:  1.8926e-02  1.8382e-02  6e-04  2e-05  7e-14\n",
      " 4:  1.8485e-02  1.8354e-02  1e-04  1e-06  2e-11\n",
      " 5:  1.8465e-02  1.8459e-02  6e-06  6e-08  1e-10\n",
      " 6:  1.8460e-02  1.8460e-02  6e-08  6e-10  6e-10\n",
      "Optimal solution found.\n",
      "CVXOPT: Weights = [0.02003756 0.02034721 0.91961141 0.02000103 0.0200028 ], Cost = 0.022460048021173722\n"
     ]
    }
   ],
   "source": [
    "# CVXOPT\n",
    "from cvxopt import matrix, solvers\n",
    "P = matrix(0.0, (n, n))  # No quadratic term\n",
    "q = matrix(r + f)\n",
    "G = matrix(np.vstack([-np.eye(n), np.ones((1, n))]))\n",
    "h_cvx = matrix(np.hstack([-h, [1]]))\n",
    "A = matrix(1.0, (1, n))\n",
    "b = matrix(1.0)\n",
    "sol = solvers.qp(P, q, G, h_cvx, A, b)\n",
    "w_cvxopt = np.array(sol[\"x\"]).flatten()\n",
    "cost_cvxopt = (r @ w_cvxopt + f.sum())\n",
    "print(f\"CVXOPT: Weights = {w_cvxopt}, Cost = {cost_cvxopt}\")"
   ]
  },
  {
   "cell_type": "code",
   "execution_count": 50,
   "metadata": {},
   "outputs": [],
   "source": [
    "# # KNITRO\n",
    "# from knitro import *\n",
    "# kc = KN_new()\n",
    "# var = [KN_add_var(kc) for _ in range(n)]\n",
    "# KN_add_con(kc, lambda x: sum(x) - 1, [var])\n",
    "# for i in range(n):\n",
    "#     KN_add_con(kc, lambda x, i=i: x[i] - h[i], [[var[i]]])\n",
    "# KN_set_obj(kc, lambda x: sum(x[i] * r[i] for i in range(n)) + f.sum())\n",
    "# KN_set_var_lobnds(kc, var, [0]*n)\n",
    "# KN_solve(kc)\n",
    "# w_knitro = KN_get_solution(kc)[1]\n",
    "# cost_knitro = KN_get_obj_value(kc)\n",
    "# print(f\"KNITRO: Weights = {w_knitro}, Cost = {cost_knitro}\")\n",
    "# KN_free(kc)"
   ]
  },
  {
   "cell_type": "markdown",
   "metadata": {},
   "source": [
    "## Results and Visualization"
   ]
  },
  {
   "cell_type": "code",
   "execution_count": 52,
   "metadata": {},
   "outputs": [
    {
     "data": {
      "image/png": "[encoded data removed]",
      "text/plain": [
       "<Figure size 1000x600 with 1 Axes>"
      ]
     },
     "metadata": {},
     "output_type": "display_data"
    },
    {
     "data": {
      "image/png": "[encoded data removed]",
      "text/plain": [
       "<Figure size 1200x600 with 2 Axes>"
      ]
     },
     "metadata": {},
     "output_type": "display_data"
    }
   ],
   "source": [
    "results = {\n",
    "    \"MOSEK\": (w_mosek, cost_mosek),\n",
    "    \"Gurobi\": (w_gurobi, cost_gurobi),\n",
    "    \"CPLEX\": (w_cplex, cost_cplex),\n",
    "    #\"Xpress\": (w_xpress, cost_xpress),\n",
    "    \"SCIP\": (w_scip, cost_scip),\n",
    "    \"CVXOPT\": (w_cvxopt, cost_cvxopt)\n",
    "    #\"KNITRO\": (w_knitro, cost_knitro)\n",
    "}\n",
    "\n",
    "# Cost comparison\n",
    "df_cost = pd.DataFrame({k: [v[1]] for k, v in results.items()}, index=[\"Cost\"]).T\n",
    "\n",
    "import matplotlib.pyplot as plt\n",
    "import seaborn as sns\n",
    "\n",
    "plt.figure(figsize=(10, 6))\n",
    "sns.barplot(x=df_cost.index, y=\"Cost\", data=df_cost)\n",
    "plt.title(\"Optimization Engine Cost Comparison (Feb 19, 2025)\")\n",
    "plt.ylabel(\"Total Funding Cost\")\n",
    "plt.xticks(rotation=45)\n",
    "plt.tight_layout()\n",
    "plt.show()\n",
    "\n",
    "# Weights comparison\n",
    "weights_df = pd.DataFrame(\n",
    "    {k: v[0] for k, v in results.items()},\n",
    "    index=[\"5 YR\", \"7 YR\", \"10 YR\", \"20 YR\", \"30 YR\"]\n",
    ").T\n",
    "plt.figure(figsize=(12, 6))\n",
    "sns.heatmap(weights_df, annot=True, cmap=\"YlGnBu\", fmt=\".3f\")\n",
    "plt.title(\"Allocation Weights by Engine\")\n",
    "plt.tight_layout()\n",
    "plt.show()"
   ]
  },
  {
   "cell_type": "markdown",
   "metadata": {},
   "source": [
    "## Notes\n",
    "- **Data**: Latest rates from 2024 used. Adjust URL if format changes.\n",
    "- **Licenses**: MOSEK, Gurobi, CPLEX, Xpress (skipped could not install for Python 3.11), KNITRO (skipped could not install for Python 3.11) need licenses; SCIP and CVXOPT are free.\n",
    "- **Performance**: All solvers should yield similar results for this linear problem."
   ]
  }
 ],
 "metadata": {
  "kernelspec": {
   "display_name": "Python 3",
   "language": "python",
   "name": "python3"
  },
  "language_info": {
   "codemirror_mode": {
    "name": "ipython",
    "version": 3
   },
   "file_extension": ".py",
   "mimetype": "text/x-python",
   "name": "python",
   "nbconvert_exporter": "python",
   "pygments_lexer": "ipython3",
   "version": "3.11.3"
  }
 },
 "nbformat": 4,
 "nbformat_minor": 4
}
