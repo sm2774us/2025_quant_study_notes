{
 "cells": [
  {
   "cell_type": "markdown",
   "metadata": {},
   "source": [
    "# Treasury Trading Optimization: R Comparison\n",
    "This notebook processes 2024 U.S. Treasury real yield curve data and solves a simplified optimization problem using `lpSolve`, as not all engines (e.g., MOSEK, Gurobi) have direct R interfaces. It replicates the Python notebook's plots."
   ]
  },
  {
   "cell_type": "code",
   "execution_count": null,
   "metadata": {},
   "outputs": [],
   "source": [
    "install.packages(c(\"tidyverse\", \"httr\", \"lpSolve\", \"ggplot2\"))\n",
    "library(tidyverse)\n",
    "library(httr)\n",
    "library(lpSolve)\n",
    "library(ggplot2)"
   ]
  },
  {
   "cell_type": "markdown",
   "metadata": {},
   "source": [
    "## Data Retrieval"
   ]
  },
  {
   "cell_type": "code",
   "execution_count": null,
   "metadata": {},
   "outputs": [],
   "source": [
    "# Fetch 2024 Treasury data\n",
    "url <- \"https://home.treasury.gov/resource-center/data-chart-center/interest-rates/daily-treasury-rates.csv/2024/all?type=daily_treasury_real_yield_curve&field_tdr_date_value=2024&page&_format=csv\"\n",
    "response <- GET(url)\n",
    "writeBin(content(response, \"raw\"), \"treasury_2024.csv\")\n",
    "\n",
    "# Load and process\n",
    "data <- read_csv(\"treasury_2024.csv\")\n",
    "rates <- data %>% \n",
    "  select(Date, `5 Yr`, `10 Yr`, `20 Yr`, `30 Yr`) %>% \n",
    "  drop_na() %>% \n",
    "  mutate(Date = as.Date(Date))\n",
    "print(tail(rates))"
   ]
  },
  {
   "cell_type": "markdown",
   "metadata": {},
   "source": [
    "## Problem Definition\n",
    "- **Objective**: Minimize $\\sum (w_i \\cdot r_i + f_i)$\n",
    "- **Constraints**:\n",
    "  - $\\sum w_i = 1$\n",
    "  - $w_i \\geq 0.02$ (haircut)\n",
    "  - $w_i \\geq 0$\n",
    "- **Parameters**:\n",
    "  - $r_i$: Latest yields\n",
    "  - $h_i = 0.02$\n",
    "  - $f_i = 0.001$"
   ]
  },
  {
   "cell_type": "code",
   "execution_count": null,
   "metadata": {},
   "outputs": [],
   "source": [
    "# Latest rates\n",
    "r <- as.numeric(tail(rates, 1)[, 2:5]) / 100\n",
    "h <- rep(0.02, 4)\n",
    "f <- rep(0.001, 4)\n",
    "n <- length(r)\n",
    "\n",
    "# Objective: r + f\n",
    "obj <- r + f\n",
    "\n",
    "# Constraints: sum(w) = 1, w >= h\n",
    "con <- rbind(t(rep(1, n)), diag(n))\n",
    "dir <- c(\"=\", rep(\">=\", n))\n",
    "rhs <- c(1, h)\n",
    "\n",
    "# Solve\n",
    "sol <- lp(\"min\", obj, con, dir, rhs)\n",
    "w_lpsolve <- sol$solution\n",
    "cost_lpsolve <- sol$objval\n",
    "cat(\"lpSolve: Weights =\", w_lpsolve, \", Cost =\", cost_lpsolve, \"\\n\")"
   ]
  },
  {
   "cell_type": "markdown",
   "metadata": {},
   "source": [
    "## Visualization"
   ]
  },
  {
   "cell_type": "code",
   "execution_count": null,
   "metadata": {},
   "outputs": [],
   "source": [
    "# Mock results (only lpSolve run in R)\n",
    "results <- data.frame(\n",
    "  Engine = c(\"lpSolve\"),\n",
    "  Cost = c(cost_lpsolve)\n",
    ")\n",
    "\n",
    "ggplot(results, aes(x = Engine, y = Cost)) +\n",
    "  geom_bar(stat = \"identity\", fill = \"steelblue\") +\n",
    "  theme_minimal() +\n",
    "  labs(title = \"Optimization Engine Cost Comparison (Feb 19, 2025)\", y = \"Total Funding Cost\") +\n",
    "  theme(axis.text.x = element_text(angle = 45, hjust = 1))\n",
    "\n",
    "# Weights heatmap\n",
    "weights <- data.frame(\n",
    "  Engine = \"lpSolve\",\n",
    "  t(w_lpsolve)\n",
    ")\n",
    "colnames(weights) <- c(\"Engine\", \"5 Yr\", \"10 Yr\", \"20 Yr\", \"30 Yr\")\n",
    "weights_long <- pivot_longer(weights, -Engine, names_to = \"Maturity\", values_to = \"Weight\")\n",
    "\n",
    "ggplot(weights_long, aes(x = Engine, y = Maturity, fill = Weight)) +\n",
    "  geom_tile() +\n",
    "  geom_text(aes(label = round(Weight, 3))) +\n",
    "  scale_fill_gradient(low = \"yellow\", high = \"blue\") +\n",
    "  labs(title = \"Allocation Weights by Engine\") +\n",
    "  theme_minimal()"
   ]
  },
  {
   "cell_type": "markdown",
   "metadata": {},
   "source": [
    "## Notes\n",
    "- **Solvers**: Only `lpSolve` used due to limited R support for MOSEK, Gurobi, etc. Export Python results to CSV for full comparison.\n",
    "- **Data**: Adjust URL parsing if CSV format changes.\n",
    "- **Extensions**: Use `Rglpk` or `ROI` for alternative R solvers."
   ]
  }
 ],
 "metadata": {
  "kernelspec": {
   "display_name": "R",
   "language": "R",
   "name": "ir"
  },
  "language_info": {
   "codemirror_mode": "r",
   "file_extension": ".r",
   "mimetype": "text/x-r-source",
   "name": "R",
   "pygments_lexer": "r",
   "version": "4.0.0"
  }
 },
 "nbformat": 4,
 "nbformat_minor": 4
}