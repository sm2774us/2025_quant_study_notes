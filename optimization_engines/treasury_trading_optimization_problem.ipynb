{
 "cells": [
  {
   "cell_type": "markdown",
   "metadata": {},
   "source": [
    "# Mathematical Deep Dive: Treasury Trading Optimization\n",
    "\n",
    "This notebook explores the mathematics behind the convex optimization problem for treasury trading, minimizing funding costs using 2024 U.S. Treasury real yield curve data."
   ]
  },
  {
   "cell_type": "markdown",
   "metadata": {},
   "source": [
    "## Problem Statement\n",
    "\n",
    "We allocate weights $w_i$ to $n$ treasury maturities to minimize funding costs:\n",
    "\n",
    "$$ C = \\sum_{i=1}^{n} (w_i \\cdot r_i + f_i) $$\n",
    "\n",
    "Where:\n",
    "- $w_i$: Weight for treasury $i$ (decision variable).\n",
    "- $r_i$: Real yield rate (e.g., 0.0202).\n",
    "- $f_i$: Transfer fee (0.001).\n",
    "- $n$: Number of maturities (5).\n",
    "\n",
    "Since $\\sum f_i$ is constant, we minimize:\n",
    "\n",
    "$$ C' = \\sum_{i=1}^{n} w_i r_i $$"
   ]
  },
  {
   "cell_type": "markdown",
   "metadata": {},
   "source": [
    "## Constraints\n",
    "\n",
    "1. **Budget**: Full allocation:\n",
    "$$ \\sum_{i=1}^{n} w_i = 1 $$\n",
    "\n",
    "2. **Haircut**: Minimum allocation:\n",
    "$$ w_i \\geq h_i = 0.02 \\quad \\forall i $$\n",
    "\n",
    "3. **Non-negativity**: $w_i \\geq 0$ (subsumed by haircut)."
   ]
  },
  {
   "cell_type": "markdown",
   "metadata": {},
   "source": [
    "## Linear Programming Formulation\n",
    "\n",
    "$$ \\text{Minimize: } \\mathbf{r}^T \\mathbf{w} + \\mathbf{f}^T \\mathbf{1} $$\n",
    "$$ \\text{Subject to: } $$\n",
    "$$ \\mathbf{1}^T \\mathbf{w} = 1 $$\n",
    "$$ \\mathbf{w} \\geq \\mathbf{h} $$\n",
    "\n",
    "Vectors:\n",
    "- $\\mathbf{w} = [w_1, \\dots, w_n]^T$\n",
    "- $\\mathbf{r} = [r_1, \\dots, r_n]^T$\n",
    "- $\\mathbf{f} = [0.001, \\dots, 0.001]^T$\n",
    "- $\\mathbf{h} = [0.02, \\dots, 0.02]^T$"
   ]
  },
  {
   "cell_type": "code",
   "execution_count": 1,
   "metadata": {},
   "outputs": [
    {
     "name": "stdout",
     "output_type": "stream",
     "text": [
      "Yields: [0.0176 0.0175 0.0174 0.0184 0.0191]\n"
     ]
    }
   ],
   "source": [
    "import pandas as pd\n",
    "import numpy as np\n",
    "import requests\n",
    "\n",
    "# Fetch data\n",
    "url = \"https://home.treasury.gov/resource-center/data-chart-center/interest-rates/daily-treasury-rates.csv/2024/all?type=daily_treasury_real_yield_curve&field_tdr_date_value=2024&page&_format=csv\"\n",
    "response = requests.get(url)\n",
    "with open(\"treasury_2024.csv\", \"wb\") as f:\n",
    "    f.write(response.content)\n",
    "\n",
    "data = pd.read_csv(\"treasury_2024.csv\")\n",
    "rates = data[[\"Date\", \"5 YR\", \"7 YR\", \"10 YR\", \"20 YR\", \"30 YR\"]].dropna()\n",
    "r = rates.iloc[-1, 1:].values.astype(np.float64) / 100\n",
    "h = np.array([0.02] * 5)\n",
    "f = np.array([0.001] * 5)\n",
    "n = len(r)\n",
    "print(f\"Yields: {r}\")"
   ]
  },
  {
   "cell_type": "markdown",
   "metadata": {},
   "source": [
    "## Feasibility\n",
    "\n",
    "Check if $\\sum h_i \\leq 1$:\n",
    "$$ 5 \\cdot 0.02 = 0.1 \\leq 1 $$\n",
    "\n",
    "The problem is feasible."
   ]
  },
  {
   "cell_type": "markdown",
   "metadata": {},
   "source": [
    "## Optimality Insight\n",
    "\n",
    "Since the objective is linear, the optimal solution lies at a vertex. Typically, allocate maximum weight to the lowest $r_i$, with others at $h_i$:\n",
    "\n",
    "$$ w_1 = 1 - (n-1) \\cdot 0.02, \\quad w_{i>1} = 0.02 $$"
   ]
  },
  {
   "cell_type": "code",
   "execution_count": 2,
   "metadata": {},
   "outputs": [
    {
     "name": "stdout",
     "output_type": "stream",
     "text": [
      "Theoretical Weights: [0.02 0.02 0.92 0.02 0.02]\n",
      "Theoretical Cost: 0.02246\n"
     ]
    }
   ],
   "source": [
    "# Theoretical optimal solution\n",
    "min_idx = np.argmin(r)\n",
    "w_theory = np.array([0.02] * n)\n",
    "w_theory[min_idx] = 1 - (n - 1) * 0.02\n",
    "cost_theory = np.dot(w_theory, r) + f.sum()\n",
    "print(f\"Theoretical Weights: {w_theory}\")\n",
    "print(f\"Theoretical Cost: {cost_theory}\")"
   ]
  },
  {
   "cell_type": "markdown",
   "metadata": {},
   "source": [
    "## KKT Conditions\n",
    "\n",
    "1. **Stationarity**: $\\mathbf{r} + \\lambda \\mathbf{1} - \\boldsymbol{\\mu} = 0$\n",
    "2. **Primal Feasibility**: $\\mathbf{1}^T \\mathbf{w} = 1$, $\\mathbf{w} \\geq \\mathbf{h}$\n",
    "3. **Dual Feasibility**: $\\boldsymbol{\\mu} \\geq 0$\n",
    "4. **Complementary Slackness**: $\\mu_i (w_i - h_i) = 0$"
   ]
  },
  {
   "cell_type": "code",
   "execution_count": 3,
   "metadata": {},
   "outputs": [
    {
     "name": "stdout",
     "output_type": "stream",
     "text": [
      "     pcost       dcost       gap    pres   dres\n",
      " 0:  1.8998e-02 -8.8154e-01  7e+00  2e+00  5e-16\n",
      " 1:  1.8999e-02 -6.3141e-01  7e-01  2e-02  9e-16\n",
      " 2:  1.8998e-02  1.0646e-02  8e-03  2e-04  9e-16\n",
      " 3:  1.8926e-02  1.8382e-02  6e-04  2e-05  7e-14\n",
      " 4:  1.8485e-02  1.8354e-02  1e-04  1e-06  2e-11\n",
      " 5:  1.8465e-02  1.8459e-02  6e-06  6e-08  1e-10\n",
      " 6:  1.8460e-02  1.8460e-02  6e-08  6e-10  6e-10\n",
      "Optimal solution found.\n",
      "CVXOPT Weights: [0.02003756 0.02034721 0.91961141 0.02000103 0.0200028 ]\n",
      "CVXOPT Cost: 0.022460048021173722\n"
     ]
    }
   ],
   "source": [
    "# Example with CVXOPT (open-source)\n",
    "from cvxopt import matrix, solvers\n",
    "P = matrix(0.0, (n, n))\n",
    "q = matrix(r + f)\n",
    "G = matrix(np.vstack([-np.eye(n), np.ones((1, n))]))\n",
    "h_cvx = matrix(np.hstack([-h, [1]]))\n",
    "A = matrix(1.0, (1, n))\n",
    "b = matrix(1.0)\n",
    "sol = solvers.qp(P, q, G, h_cvx, A, b)\n",
    "w_cvxopt = np.array(sol[\"x\"]).flatten()\n",
    "cost_cvxopt = r @ w_cvxopt + f.sum()\n",
    "print(f\"CVXOPT Weights: {w_cvxopt}\")\n",
    "print(f\"CVXOPT Cost: {cost_cvxopt}\")"
   ]
  },
  {
   "cell_type": "markdown",
   "metadata": {},
   "source": [
    "## Conclusion\n",
    "\n",
    "The LP’s linearity ensures solvers converge to the same vertex solution, efficiently balancing low yields with constraints."
   ]
  }
 ],
 "metadata": {
  "kernelspec": {
   "display_name": "Python 3",
   "language": "python",
   "name": "python3"
  },
  "language_info": {
   "codemirror_mode": {
    "name": "ipython",
    "version": 3
   },
   "file_extension": ".py",
   "mimetype": "text/x-python",
   "name": "python",
   "nbconvert_exporter": "python",
   "pygments_lexer": "ipython3",
   "version": "3.11.3"
  }
 },
 "nbformat": 4,
 "nbformat_minor": 4
}
